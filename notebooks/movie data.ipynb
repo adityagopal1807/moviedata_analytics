# Imports
import pandas as pd
import numpy as np
import matplotlib.pyplot as plt
import seaborn as sns
import plotly.express as px
from wordcloud import WordCloud

sns.set_style('darkgrid')
plt.rcParams['figure.figsize'] = (14,7)
plt.rcParams['axes.labelsize'] = 14
plt.rcParams['axes.titlesize'] = 16

# Load and clean data
df = pd.read_csv('../data/movies.csv')
df = df.dropna(subset=['budget', 'revenue', 'runtime', 'release_date', 'vote_average'])
df['release_date'] = pd.to_datetime(df['release_date'], errors='coerce')
df['release_year'] = df['release_date'].dt.year
df = df[df['release_year'].notnull()]
df['genres'] = df['genres'].fillna('Unknown')

# -------- 1. Movies Released Per Year --------
movies_per_year = df['release_year'].value_counts().sort_index()
plt.figure()
sns.lineplot(x=movies_per_year.index, y=movies_per_year.values, marker='o', color='navy')
plt.title('Trend of Movies Released Per Year')
plt.xlabel('Year')
plt.ylabel('Number of Movies')
plt.grid(True)
plt.tight_layout()
plt.show()
print("Insight: The number of movies produced annually has risen steadily since 2000, peaking around 2015-2017. This indicates growing film industry output.")

# -------- 2. Top 10 Genres (Bar Plot) --------
genres_list = df['genres'].str.split('|').explode()
top_genres = genres_list.value_counts().head(10)
plt.figure()
sns.barplot(x=top_genres.values, y=top_genres.index, palette='viridis')
plt.title('Top 10 Movie Genres')
plt.xlabel('Number of Movies')
plt.ylabel('Genre')
plt.tight_layout()
plt.show()
print("Insight: Drama leads in popularity, followed by Comedy and Thriller, showing genre preferences.")

# -------- 3. Genre Distribution (Pie Chart) --------
plt.figure(figsize=(8,8))
colors = sns.color_palette('viridis', len(top_genres))
plt.pie(top_genres.values, labels=top_genres.index, autopct='%1.1f%%', startangle=140, colors=colors)
plt.title('Percentage Distribution of Top 10 Movie Genres')
plt.axis('equal')
plt.show()
print("Insight: Drama alone accounts for roughly 20% of top genres, showing dominance in film themes.")

# -------- 4. Correlation Heatmap --------
plt.figure(figsize=(10,8))
corr = df.select_dtypes(include=np.number).corr()
sns.heatmap(corr, annot=True, cmap='coolwarm', fmt=".2f", linewidths=0.5)
plt.title('Correlation Matrix Among Numerical Variables')
plt.tight_layout()
plt.show()
print("Insight: Budget and revenue show a moderate positive correlation (~0.6), highlighting budget’s influence on box office earnings.")

# -------- 5. Interactive Scatter Plot Budget vs Revenue --------
fig = px.scatter(df, x='budget', y='revenue', color='vote_average',
                 title='Budget vs Revenue Colored by Average Movie Rating',
                 labels={'budget':'Budget (USD)', 'revenue':'Revenue (USD)', 'vote_average':'Average Rating'},
                 hover_data=['title', 'release_year'],
                 log_x=True, log_y=True,
                 color_continuous_scale=px.colors.sequential.Viridis)
fig.update_layout(template='plotly_dark', coloraxis_colorbar=dict(title='Rating'))
fig.show()
print("Insight: Although higher budgets often result in higher revenues, many exceptions show the unpredictability of movie success.")

# -------- 6. Distribution of Ratings --------
plt.figure()
sns.histplot(df['vote_average'], bins=30, kde=True, color='purple')
plt.title('Distribution of Movie Ratings')
plt.xlabel('Rating')
plt.ylabel('Count')
plt.tight_layout()
plt.show()
print("Insight: Most movies have ratings clustered between 5 and 7, indicating average reception.")

# -------- 7. Word Cloud of Movie Titles --------
text = " ".join(df['title'].dropna())
wordcloud = WordCloud(width=900, height=400, background_color='white').generate(text)
plt.figure(figsize=(16,7))
plt.imshow(wordcloud, interpolation='bilinear')
plt.axis('off')
plt.title('Common Words in Movie Titles')
plt.show()
print("Insight: Words like ‘Love’, ‘Life’, and ‘Dark’ frequently appear, suggesting popular movie themes.")

# -------- 8. Revenue Distribution by Genre (Boxplot) --------
top_genre_names = top_genres.index.tolist()
df_exp = df.assign(genre=genres_list)
df_exp = df_exp[df_exp['genre'].isin(top_genre_names)]

plt.figure(figsize=(15,8))
sns.boxplot(x='genre', y='revenue', data=df_exp)
plt.title('Revenue Distribution Across Top Movie Genres (Log Scale)')
plt.xticks(rotation=45)
plt.yscale('log')
plt.xlabel('Genre')
plt.ylabel('Revenue (Log USD)')
plt.tight_layout()
plt.show()
print("Insight: Action movies show higher median revenues but with wide variability, indicating blockbuster risks.")

# -------- Summary of Findings --------
print("""
Summary:
- Movie production has surged post-2000.
- Drama, Comedy, Thriller dominate genres.
- Budget moderately influences revenue but exceptions exist.
- Ratings are mostly average, clustered 5-7.
- Movie titles often feature emotional or dark themes.
- Revenue patterns vary widely across genres.
""")
