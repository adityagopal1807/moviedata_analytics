{
 "cells": [
  {
   "cell_type": "markdown",
   "metadata": {},
   "source": [
    "# \ud83c\udfaf Enhanced Data Cleaning for Movie Dataset\n",
    "This notebook performs comprehensive cleaning and preprocessing on a movie dataset, including feature engineering, outlier removal, genre extraction, and export."
   ]
  },
  {
   "cell_type": "code",
   "execution_count": null,
   "metadata": {},
   "outputs": [],
   "source": [
    "import pandas as pd\n",
    "import numpy as np\n",
    "import ast\n",
    "import matplotlib.pyplot as plt\n",
    "import seaborn as sns\n",
    "\n",
    "# Load dataset\n",
    "df = pd.read_csv(\"movies.csv\")  # Replace with your actual file\n",
    "print(\"\ud83d\udcca Initial dataset shape:\", df.shape)\n",
    "\n",
    "# Display first few rows\n",
    "df.head()"
   ]
  },
  {
   "cell_type": "code",
   "execution_count": null,
   "metadata": {},
   "outputs": [],
   "source": [
    "# Basic Info\n",
    "print(\"\\n\ud83d\udd0d Dataset Info:\")\n",
    "print(df.info())\n",
    "\n",
    "print(\"\\n\ud83d\udcc9 Summary Statistics:\")\n",
    "print(df.describe(include='all'))"
   ]
  },
  {
   "cell_type": "code",
   "execution_count": null,
   "metadata": {},
   "outputs": [],
   "source": [
    "# Handle Missing Values\n",
    "print(\"\\n\ud83e\uddeC Missing Values Before Cleaning:\")\n",
    "missing = df.isnull().sum()\n",
    "print(missing[missing > 0])\n",
    "\n",
    "# Drop irrelevant columns\n",
    "drop_cols = ['homepage', 'tagline', 'status', 'spoken_languages', 'production_companies']\n",
    "df.drop(columns=drop_cols, inplace=True, errors='ignore')\n",
    "\n",
    "# Fill numerical columns\n",
    "df['budget'] = df['budget'].fillna(0)\n",
    "df['revenue'] = df['revenue'].fillna(0)\n",
    "df['runtime'] = df['runtime'].fillna(df['runtime'].median())"
   ]
  },
  {
   "cell_type": "code",
   "execution_count": null,
   "metadata": {},
   "outputs": [],
   "source": [
    "# Convert release_date to datetime\n",
    "df['release_date'] = pd.to_datetime(df['release_date'], errors='coerce')\n",
    "df['release_year'] = df['release_date'].dt.year\n",
    "\n",
    "# Drop rows with no release year\n",
    "df.dropna(subset=['release_year'], inplace=True)\n",
    "df['release_year'] = df['release_year'].astype(int)"
   ]
  },
  {
   "cell_type": "code",
   "execution_count": null,
   "metadata": {},
   "outputs": [],
   "source": [
    "# Clean object columns\n",
    "object_cols = df.select_dtypes(include='object').columns\n",
    "for col in object_cols:\n",
    "    try:\n",
    "        df[col] = df[col].astype(str)\n",
    "    except:\n",
    "        pass\n",
    "\n",
    "# Drop duplicates\n",
    "df.drop_duplicates(inplace=True)"
   ]
  },
  {
   "cell_type": "code",
   "execution_count": null,
   "metadata": {},
   "outputs": [],
   "source": [
    "# Feature Engineering\n",
    "df['profit'] = df['revenue'] - df['budget']\n",
    "df['profit_margin'] = np.where(df['budget'] > 0, df['profit'] / df['budget'], 0)\n",
    "\n",
    "# Log transformations\n",
    "df['log_budget'] = np.log1p(df['budget'])\n",
    "df['log_revenue'] = np.log1p(df['revenue'])\n",
    "df['log_profit'] = np.log1p(df['profit'])"
   ]
  },
  {
   "cell_type": "code",
   "execution_count": null,
   "metadata": {},
   "outputs": [],
   "source": [
    "# Extract main genre\n",
    "def extract_main_genre(genre_str):\n",
    "    try:\n",
    "        genre_list = ast.literal_eval(genre_str)\n",
    "        if isinstance(genre_list, list) and genre_list:\n",
    "            return genre_list[0]['name']\n",
    "    except:\n",
    "        return np.nan\n",
    "\n",
    "if 'genres' in df.columns:\n",
    "    df['main_genre'] = df['genres'].apply(extract_main_genre)"
   ]
  },
  {
   "cell_type": "code",
   "execution_count": null,
   "metadata": {},
   "outputs": [],
   "source": [
    "# Filter for English-language movies (optional)\n",
    "if 'original_language' in df.columns:\n",
    "    df = df[df['original_language'] == 'en']"
   ]
  },
  {
   "cell_type": "code",
   "execution_count": null,
   "metadata": {},
   "outputs": [],
   "source": [
    "# Drop extreme outliers in revenue (optional)\n",
    "q1 = df['revenue'].quantile(0.25)\n",
    "q3 = df['revenue'].quantile(0.75)\n",
    "iqr = q3 - q1\n",
    "upper_limit = q3 + 3 * iqr\n",
    "df = df[df['revenue'] <= upper_limit]"
   ]
  },
  {
   "cell_type": "code",
   "execution_count": null,
   "metadata": {},
   "outputs": [],
   "source": [
    "# Create runtime buckets\n",
    "df['duration_category'] = pd.cut(df['runtime'], bins=[0, 60, 90, 120, 180, np.inf],\n",
    "                                 labels=['Short (<1hr)', 'Medium (1-1.5hr)', 'Standard (1.5-2hr)', 'Long (2-3hr)', 'Epic (>3hr)'])"
   ]
  },
  {
   "cell_type": "code",
   "execution_count": null,
   "metadata": {},
   "outputs": [],
   "source": [
    "# One-hot encoding for main genre\n",
    "if 'main_genre' in df.columns:\n",
    "    genre_dummies = pd.get_dummies(df['main_genre'], prefix='genre', drop_first=True)\n",
    "    df = pd.concat([df, genre_dummies], axis=1)"
   ]
  },
  {
   "cell_type": "code",
   "execution_count": null,
   "metadata": {},
   "outputs": [],
   "source": [
    "# Final dataset overview\n",
    "print(\"\\n\ud83d\udc4d Cleaned Dataset Shape:\", df.shape)\n",
    "df[['title', 'release_year', 'runtime', 'budget', 'revenue', 'profit', 'main_genre']].head()"
   ]
  },
  {
   "cell_type": "code",
   "execution_count": null,
   "metadata": {},
   "outputs": [],
   "source": [
    "# Save cleaned data\n",
    "df.to_csv(\"cleaned_movies.csv\", index=False)\n",
    "print(\"\\n\ud83d\udcbe Cleaned dataset saved as 'cleaned_movies.csv'\")"
   ]
  }
 ],
 "metadata": {
  "kernelspec": {
   "display_name": "Python 3",
   "language": "python",
   "name": "python3"
  },
  "language_info": {
   "codemirror_mode": {
    "name": "ipython",
    "version": 3
   },
   "file_extension": ".py",
   "mimetype": "text/x-python",
   "name": "python",
   "nbconvert_exporter": "python",
   "pygments_lexer": "ipython3",
   "version": "3.11.4"
  }
 },
 "nbformat": 5,
 "nbformat_minor": 10
}
